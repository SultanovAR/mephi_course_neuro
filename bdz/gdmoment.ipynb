{
 "cells": [
  {
   "cell_type": "code",
   "execution_count": 1,
   "metadata": {},
   "outputs": [],
   "source": [
    "import pandas as pd\n",
    "import numpy as np\n",
    "import torch\n",
    "import torch.nn as nn\n",
    "import torch.nn.functional as F\n",
    "import torch.optim as optim\n",
    "from torch.utils.data import Dataset, DataLoader\n",
    "import matplotlib.pylab as plt"
   ]
  },
  {
   "cell_type": "code",
   "execution_count": 2,
   "metadata": {},
   "outputs": [
    {
     "data": {
      "text/html": [
       "<div>\n",
       "<style scoped>\n",
       "    .dataframe tbody tr th:only-of-type {\n",
       "        vertical-align: middle;\n",
       "    }\n",
       "\n",
       "    .dataframe tbody tr th {\n",
       "        vertical-align: top;\n",
       "    }\n",
       "\n",
       "    .dataframe thead th {\n",
       "        text-align: right;\n",
       "    }\n",
       "</style>\n",
       "<table border=\"1\" class=\"dataframe\">\n",
       "  <thead>\n",
       "    <tr style=\"text-align: right;\">\n",
       "      <th></th>\n",
       "      <th>0</th>\n",
       "      <th>1</th>\n",
       "      <th>2</th>\n",
       "      <th>3</th>\n",
       "      <th>4</th>\n",
       "      <th>5</th>\n",
       "      <th>6</th>\n",
       "      <th>7</th>\n",
       "      <th>8</th>\n",
       "      <th>9</th>\n",
       "      <th>...</th>\n",
       "      <th>41</th>\n",
       "      <th>42</th>\n",
       "      <th>43</th>\n",
       "      <th>44</th>\n",
       "      <th>45</th>\n",
       "      <th>46</th>\n",
       "      <th>47</th>\n",
       "      <th>48</th>\n",
       "      <th>49</th>\n",
       "      <th>50</th>\n",
       "    </tr>\n",
       "  </thead>\n",
       "  <tbody>\n",
       "    <tr>\n",
       "      <th>0</th>\n",
       "      <td>-0.050634</td>\n",
       "      <td>0.027240</td>\n",
       "      <td>-0.022914</td>\n",
       "      <td>0.037219</td>\n",
       "      <td>0.018378</td>\n",
       "      <td>-0.032899</td>\n",
       "      <td>0.038020</td>\n",
       "      <td>0.007106</td>\n",
       "      <td>-0.014699</td>\n",
       "      <td>-0.013311</td>\n",
       "      <td>...</td>\n",
       "      <td>-0.004743</td>\n",
       "      <td>0.000467</td>\n",
       "      <td>-0.005257</td>\n",
       "      <td>-0.006020</td>\n",
       "      <td>-0.005111</td>\n",
       "      <td>-0.010556</td>\n",
       "      <td>-0.002886</td>\n",
       "      <td>-0.004013</td>\n",
       "      <td>-0.002646</td>\n",
       "      <td>1</td>\n",
       "    </tr>\n",
       "    <tr>\n",
       "      <th>1</th>\n",
       "      <td>-0.082828</td>\n",
       "      <td>0.112354</td>\n",
       "      <td>0.009881</td>\n",
       "      <td>0.012665</td>\n",
       "      <td>0.008541</td>\n",
       "      <td>-0.003085</td>\n",
       "      <td>-0.008792</td>\n",
       "      <td>-0.051937</td>\n",
       "      <td>0.034442</td>\n",
       "      <td>0.018615</td>\n",
       "      <td>...</td>\n",
       "      <td>-0.021127</td>\n",
       "      <td>0.002920</td>\n",
       "      <td>0.002466</td>\n",
       "      <td>-0.006346</td>\n",
       "      <td>-0.005416</td>\n",
       "      <td>0.005263</td>\n",
       "      <td>0.001795</td>\n",
       "      <td>-0.001875</td>\n",
       "      <td>-0.005464</td>\n",
       "      <td>1</td>\n",
       "    </tr>\n",
       "    <tr>\n",
       "      <th>2</th>\n",
       "      <td>-0.042588</td>\n",
       "      <td>0.001930</td>\n",
       "      <td>0.008672</td>\n",
       "      <td>-0.049124</td>\n",
       "      <td>-0.006528</td>\n",
       "      <td>-0.016737</td>\n",
       "      <td>-0.026704</td>\n",
       "      <td>-0.066970</td>\n",
       "      <td>-0.001077</td>\n",
       "      <td>0.058637</td>\n",
       "      <td>...</td>\n",
       "      <td>-0.005165</td>\n",
       "      <td>-0.002685</td>\n",
       "      <td>0.001238</td>\n",
       "      <td>-0.000939</td>\n",
       "      <td>-0.002155</td>\n",
       "      <td>0.004361</td>\n",
       "      <td>-0.000085</td>\n",
       "      <td>-0.001146</td>\n",
       "      <td>-0.007280</td>\n",
       "      <td>1</td>\n",
       "    </tr>\n",
       "    <tr>\n",
       "      <th>3</th>\n",
       "      <td>-0.042608</td>\n",
       "      <td>0.001906</td>\n",
       "      <td>0.008685</td>\n",
       "      <td>-0.049140</td>\n",
       "      <td>-0.006525</td>\n",
       "      <td>-0.016723</td>\n",
       "      <td>-0.026691</td>\n",
       "      <td>-0.066956</td>\n",
       "      <td>-0.001069</td>\n",
       "      <td>0.058653</td>\n",
       "      <td>...</td>\n",
       "      <td>-0.005121</td>\n",
       "      <td>-0.002631</td>\n",
       "      <td>0.001206</td>\n",
       "      <td>-0.001003</td>\n",
       "      <td>-0.002150</td>\n",
       "      <td>0.004290</td>\n",
       "      <td>-0.000087</td>\n",
       "      <td>-0.001166</td>\n",
       "      <td>-0.007277</td>\n",
       "      <td>1</td>\n",
       "    </tr>\n",
       "    <tr>\n",
       "      <th>4</th>\n",
       "      <td>-0.005453</td>\n",
       "      <td>-0.084841</td>\n",
       "      <td>-0.021381</td>\n",
       "      <td>-0.010569</td>\n",
       "      <td>0.012817</td>\n",
       "      <td>0.006240</td>\n",
       "      <td>-0.043900</td>\n",
       "      <td>0.008502</td>\n",
       "      <td>-0.095431</td>\n",
       "      <td>-0.005969</td>\n",
       "      <td>...</td>\n",
       "      <td>-0.005556</td>\n",
       "      <td>-0.000033</td>\n",
       "      <td>-0.000223</td>\n",
       "      <td>-0.010339</td>\n",
       "      <td>0.001835</td>\n",
       "      <td>-0.001127</td>\n",
       "      <td>-0.004829</td>\n",
       "      <td>0.001877</td>\n",
       "      <td>-0.010629</td>\n",
       "      <td>1</td>\n",
       "    </tr>\n",
       "  </tbody>\n",
       "</table>\n",
       "<p>5 rows × 51 columns</p>\n",
       "</div>"
      ],
      "text/plain": [
       "         0         1         2         3         4         5         6   \\\n",
       "0 -0.050634  0.027240 -0.022914  0.037219  0.018378 -0.032899  0.038020   \n",
       "1 -0.082828  0.112354  0.009881  0.012665  0.008541 -0.003085 -0.008792   \n",
       "2 -0.042588  0.001930  0.008672 -0.049124 -0.006528 -0.016737 -0.026704   \n",
       "3 -0.042608  0.001906  0.008685 -0.049140 -0.006525 -0.016723 -0.026691   \n",
       "4 -0.005453 -0.084841 -0.021381 -0.010569  0.012817  0.006240 -0.043900   \n",
       "\n",
       "         7         8         9  ...        41        42        43        44  \\\n",
       "0  0.007106 -0.014699 -0.013311 ... -0.004743  0.000467 -0.005257 -0.006020   \n",
       "1 -0.051937  0.034442  0.018615 ... -0.021127  0.002920  0.002466 -0.006346   \n",
       "2 -0.066970 -0.001077  0.058637 ... -0.005165 -0.002685  0.001238 -0.000939   \n",
       "3 -0.066956 -0.001069  0.058653 ... -0.005121 -0.002631  0.001206 -0.001003   \n",
       "4  0.008502 -0.095431 -0.005969 ... -0.005556 -0.000033 -0.000223 -0.010339   \n",
       "\n",
       "         45        46        47        48        49  50  \n",
       "0 -0.005111 -0.010556 -0.002886 -0.004013 -0.002646   1  \n",
       "1 -0.005416  0.005263  0.001795 -0.001875 -0.005464   1  \n",
       "2 -0.002155  0.004361 -0.000085 -0.001146 -0.007280   1  \n",
       "3 -0.002150  0.004290 -0.000087 -0.001166 -0.007277   1  \n",
       "4  0.001835 -0.001127 -0.004829  0.001877 -0.010629   1  \n",
       "\n",
       "[5 rows x 51 columns]"
      ]
     },
     "execution_count": 2,
     "metadata": {},
     "output_type": "execute_result"
    }
   ],
   "source": [
    "dataset = pd.read_csv(filepath_or_buffer='pretreatmented_data.csv', header=None)\n",
    "FEATURES_INDEX = np.arange(50)\n",
    "LABELS_INDEX = 50\n",
    "BATCH_SIZE = 50\n",
    "LOSS_THRESHOLD = 1e-7\n",
    "dataset.head()"
   ]
  },
  {
   "cell_type": "code",
   "execution_count": 3,
   "metadata": {},
   "outputs": [
    {
     "data": {
      "text/html": [
       "<div>\n",
       "<style scoped>\n",
       "    .dataframe tbody tr th:only-of-type {\n",
       "        vertical-align: middle;\n",
       "    }\n",
       "\n",
       "    .dataframe tbody tr th {\n",
       "        vertical-align: top;\n",
       "    }\n",
       "\n",
       "    .dataframe thead th {\n",
       "        text-align: right;\n",
       "    }\n",
       "</style>\n",
       "<table border=\"1\" class=\"dataframe\">\n",
       "  <thead>\n",
       "    <tr style=\"text-align: right;\">\n",
       "      <th></th>\n",
       "      <th>0</th>\n",
       "      <th>1</th>\n",
       "      <th>2</th>\n",
       "      <th>3</th>\n",
       "      <th>4</th>\n",
       "      <th>5</th>\n",
       "      <th>6</th>\n",
       "      <th>7</th>\n",
       "      <th>8</th>\n",
       "      <th>9</th>\n",
       "      <th>...</th>\n",
       "      <th>41</th>\n",
       "      <th>42</th>\n",
       "      <th>43</th>\n",
       "      <th>44</th>\n",
       "      <th>45</th>\n",
       "      <th>46</th>\n",
       "      <th>47</th>\n",
       "      <th>48</th>\n",
       "      <th>49</th>\n",
       "      <th>50</th>\n",
       "    </tr>\n",
       "  </thead>\n",
       "  <tbody>\n",
       "    <tr>\n",
       "      <th>2708</th>\n",
       "      <td>-0.023177</td>\n",
       "      <td>-0.034199</td>\n",
       "      <td>-0.071174</td>\n",
       "      <td>0.034209</td>\n",
       "      <td>-0.055537</td>\n",
       "      <td>0.050054</td>\n",
       "      <td>0.085029</td>\n",
       "      <td>-0.002683</td>\n",
       "      <td>-0.022024</td>\n",
       "      <td>0.001740</td>\n",
       "      <td>...</td>\n",
       "      <td>-0.000197</td>\n",
       "      <td>-0.003055</td>\n",
       "      <td>0.006381</td>\n",
       "      <td>-0.000235</td>\n",
       "      <td>-0.005397</td>\n",
       "      <td>-0.003612</td>\n",
       "      <td>-0.000170</td>\n",
       "      <td>-0.004931</td>\n",
       "      <td>0.000354</td>\n",
       "      <td>0</td>\n",
       "    </tr>\n",
       "    <tr>\n",
       "      <th>2709</th>\n",
       "      <td>-0.068698</td>\n",
       "      <td>0.057827</td>\n",
       "      <td>0.062494</td>\n",
       "      <td>-0.120875</td>\n",
       "      <td>-0.031199</td>\n",
       "      <td>-0.126144</td>\n",
       "      <td>-0.001503</td>\n",
       "      <td>-0.027971</td>\n",
       "      <td>0.042212</td>\n",
       "      <td>-0.037903</td>\n",
       "      <td>...</td>\n",
       "      <td>0.007117</td>\n",
       "      <td>-0.001194</td>\n",
       "      <td>-0.000628</td>\n",
       "      <td>-0.002963</td>\n",
       "      <td>0.001091</td>\n",
       "      <td>0.002984</td>\n",
       "      <td>0.002117</td>\n",
       "      <td>-0.000214</td>\n",
       "      <td>-0.001545</td>\n",
       "      <td>0</td>\n",
       "    </tr>\n",
       "    <tr>\n",
       "      <th>2710</th>\n",
       "      <td>-0.022014</td>\n",
       "      <td>-0.018537</td>\n",
       "      <td>-0.052204</td>\n",
       "      <td>-0.010769</td>\n",
       "      <td>-0.049487</td>\n",
       "      <td>0.042335</td>\n",
       "      <td>0.060547</td>\n",
       "      <td>-0.026063</td>\n",
       "      <td>-0.004448</td>\n",
       "      <td>-0.008374</td>\n",
       "      <td>...</td>\n",
       "      <td>-0.015350</td>\n",
       "      <td>-0.018111</td>\n",
       "      <td>0.004594</td>\n",
       "      <td>0.017790</td>\n",
       "      <td>-0.003928</td>\n",
       "      <td>0.013328</td>\n",
       "      <td>0.001513</td>\n",
       "      <td>0.000267</td>\n",
       "      <td>0.002323</td>\n",
       "      <td>0</td>\n",
       "    </tr>\n",
       "    <tr>\n",
       "      <th>2711</th>\n",
       "      <td>-0.027492</td>\n",
       "      <td>-0.037501</td>\n",
       "      <td>-0.001082</td>\n",
       "      <td>-0.047973</td>\n",
       "      <td>-0.013806</td>\n",
       "      <td>-0.009351</td>\n",
       "      <td>-0.009311</td>\n",
       "      <td>-0.024605</td>\n",
       "      <td>-0.013044</td>\n",
       "      <td>0.041648</td>\n",
       "      <td>...</td>\n",
       "      <td>0.009767</td>\n",
       "      <td>0.000280</td>\n",
       "      <td>0.005480</td>\n",
       "      <td>-0.005193</td>\n",
       "      <td>-0.005427</td>\n",
       "      <td>-0.004483</td>\n",
       "      <td>-0.003516</td>\n",
       "      <td>-0.003058</td>\n",
       "      <td>0.003073</td>\n",
       "      <td>0</td>\n",
       "    </tr>\n",
       "    <tr>\n",
       "      <th>2712</th>\n",
       "      <td>-0.053112</td>\n",
       "      <td>0.017851</td>\n",
       "      <td>-0.001592</td>\n",
       "      <td>-0.010851</td>\n",
       "      <td>-0.040524</td>\n",
       "      <td>-0.143514</td>\n",
       "      <td>0.026496</td>\n",
       "      <td>-0.028555</td>\n",
       "      <td>0.030408</td>\n",
       "      <td>0.003770</td>\n",
       "      <td>...</td>\n",
       "      <td>-0.005770</td>\n",
       "      <td>0.001425</td>\n",
       "      <td>-0.000558</td>\n",
       "      <td>-0.001323</td>\n",
       "      <td>-0.000568</td>\n",
       "      <td>0.003484</td>\n",
       "      <td>-0.000813</td>\n",
       "      <td>-0.002720</td>\n",
       "      <td>0.002752</td>\n",
       "      <td>0</td>\n",
       "    </tr>\n",
       "  </tbody>\n",
       "</table>\n",
       "<p>5 rows × 51 columns</p>\n",
       "</div>"
      ],
      "text/plain": [
       "            0         1         2         3         4         5         6   \\\n",
       "2708 -0.023177 -0.034199 -0.071174  0.034209 -0.055537  0.050054  0.085029   \n",
       "2709 -0.068698  0.057827  0.062494 -0.120875 -0.031199 -0.126144 -0.001503   \n",
       "2710 -0.022014 -0.018537 -0.052204 -0.010769 -0.049487  0.042335  0.060547   \n",
       "2711 -0.027492 -0.037501 -0.001082 -0.047973 -0.013806 -0.009351 -0.009311   \n",
       "2712 -0.053112  0.017851 -0.001592 -0.010851 -0.040524 -0.143514  0.026496   \n",
       "\n",
       "            7         8         9  ...        41        42        43  \\\n",
       "2708 -0.002683 -0.022024  0.001740 ... -0.000197 -0.003055  0.006381   \n",
       "2709 -0.027971  0.042212 -0.037903 ...  0.007117 -0.001194 -0.000628   \n",
       "2710 -0.026063 -0.004448 -0.008374 ... -0.015350 -0.018111  0.004594   \n",
       "2711 -0.024605 -0.013044  0.041648 ...  0.009767  0.000280  0.005480   \n",
       "2712 -0.028555  0.030408  0.003770 ... -0.005770  0.001425 -0.000558   \n",
       "\n",
       "            44        45        46        47        48        49  50  \n",
       "2708 -0.000235 -0.005397 -0.003612 -0.000170 -0.004931  0.000354   0  \n",
       "2709 -0.002963  0.001091  0.002984  0.002117 -0.000214 -0.001545   0  \n",
       "2710  0.017790 -0.003928  0.013328  0.001513  0.000267  0.002323   0  \n",
       "2711 -0.005193 -0.005427 -0.004483 -0.003516 -0.003058  0.003073   0  \n",
       "2712 -0.001323 -0.000568  0.003484 -0.000813 -0.002720  0.002752   0  \n",
       "\n",
       "[5 rows x 51 columns]"
      ]
     },
     "execution_count": 3,
     "metadata": {},
     "output_type": "execute_result"
    }
   ],
   "source": [
    "spam_dataset = dataset[dataset[LABELS_INDEX] == 1]\n",
    "nonspam_dataset = dataset[dataset[LABELS_INDEX] == 0]\n",
    "nonspam_dataset.reset_index(drop=True, inplace=True)\n",
    "spam_dataset.reset_index(drop=True, inplace=True)\n",
    "nonspam_dataset.tail()"
   ]
  },
  {
   "cell_type": "code",
   "execution_count": 4,
   "metadata": {},
   "outputs": [
    {
     "name": "stdout",
     "output_type": "stream",
     "text": [
      "2621 1311 438 4370 4370\n"
     ]
    }
   ],
   "source": [
    "rand_indxs_spam = np.arange(len(spam_dataset))\n",
    "rand_indxs_nonspam = np.arange(len(nonspam_dataset))\n",
    "np.random.shuffle(rand_indxs_nonspam)\n",
    "np.random.shuffle(rand_indxs_spam)\n",
    "\n",
    "spam_f_threshold = int(len(spam_dataset)*0.6)\n",
    "spam_s_threshold = int(len(spam_dataset)*0.9)\n",
    "\n",
    "nonspam_f_threshold = int(len(nonspam_dataset)*0.6)\n",
    "nonspam_s_threshold = int(len(nonspam_dataset)*0.9)\n",
    "\n",
    "learn_dataset = pd.concat([spam_dataset.iloc[rand_indxs_spam[:spam_f_threshold]],\n",
    "                          nonspam_dataset.iloc[rand_indxs_nonspam[:nonspam_f_threshold]]])\n",
    "\n",
    "valid_dataset = pd.concat([spam_dataset.iloc[rand_indxs_spam[spam_f_threshold:spam_s_threshold]],\n",
    "                          nonspam_dataset.iloc[rand_indxs_nonspam[nonspam_f_threshold:nonspam_s_threshold]]])\n",
    "\n",
    "test_dataset = pd.concat([spam_dataset.iloc[rand_indxs_spam[spam_s_threshold:]],\n",
    "                         nonspam_dataset.iloc[rand_indxs_nonspam[nonspam_s_threshold:]]])\n",
    "\n",
    "print(len(learn_dataset), len(valid_dataset), len(test_dataset), len(learn_dataset)+len(valid_dataset)+len(test_dataset), len(dataset))"
   ]
  },
  {
   "cell_type": "code",
   "execution_count": 5,
   "metadata": {},
   "outputs": [],
   "source": [
    "learn_dataset = np.array(learn_dataset)\n",
    "valid_dataset = np.array(valid_dataset)\n",
    "test_dataset = np.array(test_dataset)"
   ]
  },
  {
   "cell_type": "code",
   "execution_count": 6,
   "metadata": {},
   "outputs": [],
   "source": [
    "learn_dataloader = DataLoader(learn_dataset, batch_size=BATCH_SIZE, shuffle=False)\n",
    "valid_dataloader = DataLoader(valid_dataset, batch_size=len(valid_dataset), shuffle=False)\n",
    "test_dataloader = DataLoader(test_dataset, batch_size=len(test_dataset), shuffle=False)"
   ]
  },
  {
   "cell_type": "code",
   "execution_count": 7,
   "metadata": {},
   "outputs": [
    {
     "data": {
      "text/plain": [
       "Net(\n",
       "  (lin1): Linear(in_features=50, out_features=20, bias=True)\n",
       "  (lin2): Linear(in_features=20, out_features=10, bias=True)\n",
       "  (lin3): Linear(in_features=10, out_features=10, bias=True)\n",
       "  (lin4): Linear(in_features=10, out_features=1, bias=True)\n",
       ")"
      ]
     },
     "execution_count": 7,
     "metadata": {},
     "output_type": "execute_result"
    }
   ],
   "source": [
    "class Net(nn.Module):\n",
    "    def __init__(self):\n",
    "        super(Net, self).__init__()\n",
    "        self.lin1 = nn.Linear(50, 20)\n",
    "        self.lin2 = nn.Linear(20, 10)\n",
    "        self.lin3 = nn.Linear(10, 10)\n",
    "        self.lin4 = nn.Linear(10, 1)\n",
    "\n",
    "    def forward(self, x):\n",
    "        x = F.tanh(self.lin1(x))\n",
    "        x = F.tanh(self.lin2(x))\n",
    "        x = F.sigmoid(self.lin3(x))\n",
    "        x = F.sigmoid(self.lin4(x))\n",
    "        return x\n",
    "\n",
    "net = Net()\n",
    "net"
   ]
  },
  {
   "cell_type": "code",
   "execution_count": 8,
   "metadata": {},
   "outputs": [],
   "source": [
    "is_load = False\n",
    "if is_load:\n",
    "    net.load_state_dict(torch.load('gdmoment/net_params.pkl'))"
   ]
  },
  {
   "cell_type": "code",
   "execution_count": 9,
   "metadata": {},
   "outputs": [
    {
     "name": "stdout",
     "output_type": "stream",
     "text": [
      "torch.Size([20, 50])\n",
      "torch.Size([20])\n",
      "torch.Size([10, 20])\n",
      "torch.Size([10])\n",
      "torch.Size([10, 10])\n",
      "torch.Size([10])\n",
      "torch.Size([1, 10])\n",
      "torch.Size([1])\n",
      "tensor([-0.1710,  0.3388,  0.0776, -0.2000,  0.0440,  0.0465, -0.2714,\n",
      "         0.0428,  0.0866,  0.1310, -0.0288, -0.1219,  0.0926,  0.1310,\n",
      "         0.0592,  0.0428, -0.0153,  0.1663,  0.2485,  0.0320])\n"
     ]
    }
   ],
   "source": [
    "#Инициализация весов\n",
    "STD = [(2/(50+20+1))**(1/2), (2/(20+10+1))**(1/2), (32/(10+10+1))**(1/2), (32/(10+1+1))**(1/2)]\n",
    "null_weigth = []\n",
    "STD.reverse()\n",
    "\n",
    "def get_weights(layer):\n",
    "    if (type(layer) == nn.Linear):\n",
    "        cur_std = STD.pop()\n",
    "        null_weigth.append(torch.randn(layer.weight.data.shape)*cur_std)\n",
    "        null_weigth.append(torch.randn(layer.bias.data.shape)*cur_std)\n",
    "\n",
    "net.apply(get_weights)\n",
    "for k in null_weigth:\n",
    "    print(k.shape)\n",
    "print(null_weigth[1])\n",
    "null_weigth.reverse()"
   ]
  },
  {
   "cell_type": "code",
   "execution_count": 10,
   "metadata": {},
   "outputs": [
    {
     "data": {
      "text/plain": [
       "Parameter containing:\n",
       "tensor([-0.1710,  0.3388,  0.0776, -0.2000,  0.0440,  0.0465, -0.2714,\n",
       "         0.0428,  0.0866,  0.1310, -0.0288, -0.1219,  0.0926,  0.1310,\n",
       "         0.0592,  0.0428, -0.0153,  0.1663,  0.2485,  0.0320])"
      ]
     },
     "execution_count": 10,
     "metadata": {},
     "output_type": "execute_result"
    }
   ],
   "source": [
    "tmp_null_weigth = list(null_weigth)\n",
    "\n",
    "def init_weigths(layer):\n",
    "    if(type(layer) == nn.Linear):\n",
    "        layer.weight.data = (tmp_null_weigth.pop()).clone()\n",
    "        layer.bias.data = (tmp_null_weigth.pop()).clone()\n",
    "        \n",
    "net.apply(init_weigths)\n",
    "net.lin1.bias"
   ]
  },
  {
   "cell_type": "code",
   "execution_count": 11,
   "metadata": {},
   "outputs": [],
   "source": [
    "criterion = nn.BCELoss(size_average=True)\n",
    "lr = 0.001"
   ]
  },
  {
   "cell_type": "code",
   "execution_count": 12,
   "metadata": {},
   "outputs": [
    {
     "name": "stderr",
     "output_type": "stream",
     "text": [
      "/anaconda3/lib/python3.6/site-packages/torch/nn/functional.py:1474: UserWarning: Using a target size (torch.Size([50])) that is different to the input size (torch.Size([50, 1])) is deprecated. Please ensure they have the same size.\n",
      "  \"Please ensure they have the same size.\".format(target.size(), input.size()))\n",
      "/anaconda3/lib/python3.6/site-packages/torch/nn/functional.py:1474: UserWarning: Using a target size (torch.Size([21])) that is different to the input size (torch.Size([21, 1])) is deprecated. Please ensure they have the same size.\n",
      "  \"Please ensure they have the same size.\".format(target.size(), input.size()))\n",
      "/anaconda3/lib/python3.6/site-packages/torch/nn/functional.py:1474: UserWarning: Using a target size (torch.Size([1311])) that is different to the input size (torch.Size([1311, 1])) is deprecated. Please ensure they have the same size.\n",
      "  \"Please ensure they have the same size.\".format(target.size(), input.size()))\n"
     ]
    },
    {
     "name": "stdout",
     "output_type": "stream",
     "text": [
      "CPU times: user 1h 53min 59s, sys: 2min 9s, total: 1h 56min 8s\n",
      "Wall time: 1h 56min\n"
     ]
    }
   ],
   "source": [
    "%%time\n",
    "learn_loss_by_lr = []\n",
    "valid_loss_by_lr = []\n",
    "test_loss_by_lr = []\n",
    "epoch_loss_by_lr = []\n",
    "mu_list = [0, 0.3, 0.6, 0.9]\n",
    "\n",
    "for mu in mu_list:\n",
    "    optimizer = optim.SGD(net.parameters(), lr=lr, momentum=mu)\n",
    "    \n",
    "    tmp_null_weigth = list(null_weigth)\n",
    "    net.apply(init_weigths)\n",
    "    \n",
    "    learn_epoch_loss = []\n",
    "    valid_epoch_loss = []\n",
    "    test_epoch_loss = []\n",
    "    epoch_list = []\n",
    "    \n",
    "    for epoch in range(5*10**4):\n",
    "        loss_acc = []\n",
    "        for learn_data in learn_dataloader:\n",
    "            optimizer.zero_grad()\n",
    "            features, labels = learn_data[:, FEATURES_INDEX].float(), learn_data[:, LABELS_INDEX].float()\n",
    "            features.requres_grad = True\n",
    "            labels.requres_grad = True\n",
    "            outputs = net(features)\n",
    "            loss = criterion(outputs, labels)\n",
    "            loss.backward()\n",
    "            optimizer.step()\n",
    "            loss_acc.append(float(loss.data))\n",
    "        learn_epoch_loss.append(np.mean(loss_acc))\n",
    "        \n",
    "        #критерий останова\n",
    "        if (epoch > 10) and\\\n",
    "        (abs(learn_epoch_loss[len(learn_epoch_loss) - 1] - learn_epoch_loss[len(learn_epoch_loss) - 2]) < LOSS_THRESHOLD):\n",
    "            print(learn_epoch_loss[len(learn_epoch_loss) - 1] - learn_epoch_loss[len(learn_epoch_loss) - 2])\n",
    "            print('lr: ', lr, ' breaked on epoch: ', epoch, '\\n')\n",
    "            break\n",
    "            \n",
    "        if epoch % 1000 == 0:\n",
    "            epoch_list.append(epoch)\n",
    "            for valid_data in valid_dataloader:\n",
    "                features, labels = valid_data[:, FEATURES_INDEX].float(), valid_data[:, LABELS_INDEX].float()\n",
    "                outputs = net(features)\n",
    "                loss = criterion(outputs, labels)\n",
    "                valid_epoch_loss.append(float(loss.data))\n",
    "                \n",
    "            for test_data in valid_dataloader:\n",
    "                features, labels = test_data[:, FEATURES_INDEX].float(), test_data[:, LABELS_INDEX].float()\n",
    "                outputs = net(features)\n",
    "                loss = criterion(outputs, labels)\n",
    "                test_epoch_loss.append(float(loss.data))\n",
    "                \n",
    "    learn_loss_by_lr.append(learn_epoch_loss)\n",
    "    valid_loss_by_lr.append(valid_epoch_loss)\n",
    "    test_loss_by_lr.append(test_epoch_loss)\n",
    "    epoch_loss_by_lr.append(epoch_list)"
   ]
  },
  {
   "cell_type": "code",
   "execution_count": 13,
   "metadata": {},
   "outputs": [],
   "source": [
    "torch.save(net.state_dict(), 'gdmoment/net_params.pkl')"
   ]
  },
  {
   "cell_type": "code",
   "execution_count": 14,
   "metadata": {},
   "outputs": [
    {
     "data": {
      "image/png": "[encoded data removed]",
      "text/plain": [
       "<matplotlib.figure.Figure at 0x114f47668>"
      ]
     },
     "metadata": {},
     "output_type": "display_data"
    }
   ],
   "source": [
    "#learn\n",
    "for num, i in enumerate(mu_list):\n",
    "    plt.plot(learn_loss_by_lr[num], label=str(i))\n",
    "plt.title('learn loss')\n",
    "plt.legend()\n",
    "plt.savefig('gdmoment/learn_loss.png', bbox_inches='tight')"
   ]
  },
  {
   "cell_type": "code",
   "execution_count": 15,
   "metadata": {},
   "outputs": [
    {
     "data": {
      "image/png": "[encoded data removed]",
      "text/plain": [
       "<matplotlib.figure.Figure at 0x114f60358>"
      ]
     },
     "metadata": {},
     "output_type": "display_data"
    }
   ],
   "source": [
    "#valid\n",
    "for num, i in enumerate(mu_list):\n",
    "    plt.plot(epoch_loss_by_lr[num], valid_loss_by_lr[num], label=str(i))\n",
    "plt.title('valid loss')\n",
    "plt.legend()\n",
    "plt.savefig('gdmoment/valid_loss.png', bbox_inches='tight')"
   ]
  },
  {
   "cell_type": "code",
   "execution_count": 16,
   "metadata": {},
   "outputs": [
    {
     "data": {
      "image/png": "[encoded data removed]",
      "text/plain": [
       "<matplotlib.figure.Figure at 0x11a575d30>"
      ]
     },
     "metadata": {},
     "output_type": "display_data"
    }
   ],
   "source": [
    "#test\n",
    "for num, i in enumerate(mu_list):\n",
    "    plt.plot(epoch_loss_by_lr[num], test_loss_by_lr[num], label=str(i))\n",
    "plt.title('test loss')\n",
    "plt.legend()\n",
    "plt.savefig('gdmoment/test_loss.png', bbox_inches='tight')"
   ]
  },
  {
   "cell_type": "code",
   "execution_count": 17,
   "metadata": {},
   "outputs": [
    {
     "name": "stdout",
     "output_type": "stream",
     "text": [
      "0.1126605294258246\n",
      "0.10323545673229503\n",
      "0.07299966894019887\n",
      "0.012748986715450883\n"
     ]
    }
   ],
   "source": [
    "#learn\n",
    "for num, i in enumerate(mu_list):\n",
    "    print(learn_loss_by_lr[num][-1])"
   ]
  },
  {
   "cell_type": "code",
   "execution_count": 18,
   "metadata": {},
   "outputs": [
    {
     "name": "stdout",
     "output_type": "stream",
     "text": [
      "0.21610453724861145\n",
      "0.20952048897743225\n",
      "0.2236735224723816\n",
      "0.6509178876876831\n"
     ]
    }
   ],
   "source": [
    "#test\n",
    "for num, i in enumerate(mu_list):\n",
    "    print(test_loss_by_lr[num][-1])"
   ]
  },
  {
   "cell_type": "code",
   "execution_count": 19,
   "metadata": {},
   "outputs": [
    {
     "name": "stderr",
     "output_type": "stream",
     "text": [
      "/anaconda3/lib/python3.6/site-packages/torch/nn/functional.py:1474: UserWarning: Using a target size (torch.Size([50])) that is different to the input size (torch.Size([50, 1])) is deprecated. Please ensure they have the same size.\n",
      "  \"Please ensure they have the same size.\".format(target.size(), input.size()))\n",
      "/anaconda3/lib/python3.6/site-packages/torch/nn/functional.py:1474: UserWarning: Using a target size (torch.Size([21])) that is different to the input size (torch.Size([21, 1])) is deprecated. Please ensure they have the same size.\n",
      "  \"Please ensure they have the same size.\".format(target.size(), input.size()))\n",
      "/anaconda3/lib/python3.6/site-packages/torch/nn/functional.py:1474: UserWarning: Using a target size (torch.Size([1311])) that is different to the input size (torch.Size([1311, 1])) is deprecated. Please ensure they have the same size.\n",
      "  \"Please ensure they have the same size.\".format(target.size(), input.size()))\n"
     ]
    },
    {
     "name": "stdout",
     "output_type": "stream",
     "text": [
      "CPU times: user 1h 53min 6s, sys: 1min 52s, total: 1h 54min 58s\n",
      "Wall time: 1h 54min 22s\n"
     ]
    }
   ],
   "source": [
    "%%time\n",
    "learn_loss_by_lr = []\n",
    "valid_loss_by_lr = []\n",
    "test_loss_by_lr = []\n",
    "epoch_loss_by_lr = []\n",
    "mu_list = [1e-30, 0.3, 0.6, 0.9]\n",
    "\n",
    "for mu in mu_list:\n",
    "    optimizer = optim.SGD(net.parameters(), lr=lr, momentum=mu, nesterov=True)\n",
    "    \n",
    "    tmp_null_weigth = list(null_weigth)\n",
    "    net.apply(init_weigths)\n",
    "    \n",
    "    learn_epoch_loss = []\n",
    "    valid_epoch_loss = []\n",
    "    test_epoch_loss = []\n",
    "    epoch_list = []\n",
    "    \n",
    "    for epoch in range(5*10**4):\n",
    "        loss_acc = []\n",
    "        for learn_data in learn_dataloader:\n",
    "            optimizer.zero_grad()\n",
    "            features, labels = learn_data[:, FEATURES_INDEX].float(), learn_data[:, LABELS_INDEX].float()\n",
    "            features.requres_grad = True\n",
    "            labels.requres_grad = True\n",
    "            outputs = net(features)\n",
    "            loss = criterion(outputs, labels)\n",
    "            loss.backward()\n",
    "            optimizer.step()\n",
    "            loss_acc.append(float(loss.data))\n",
    "        learn_epoch_loss.append(np.mean(loss_acc))\n",
    "        \n",
    "        #критерий останова\n",
    "        if (epoch > 10) and\\\n",
    "        (abs(learn_epoch_loss[len(learn_epoch_loss) - 1] - learn_epoch_loss[len(learn_epoch_loss) - 2]) < LOSS_THRESHOLD):\n",
    "            print(learn_epoch_loss[len(learn_epoch_loss) - 1] - learn_epoch_loss[len(learn_epoch_loss) - 2])\n",
    "            print('lr: ', lr, ' breaked on epoch: ', epoch, '\\n')\n",
    "            break\n",
    "            \n",
    "        if epoch % 1000 == 0:\n",
    "            epoch_list.append(epoch)\n",
    "            for valid_data in valid_dataloader:\n",
    "                features, labels = valid_data[:, FEATURES_INDEX].float(), valid_data[:, LABELS_INDEX].float()\n",
    "                outputs = net(features)\n",
    "                loss = criterion(outputs, labels)\n",
    "                valid_epoch_loss.append(float(loss.data))\n",
    "                \n",
    "            for test_data in valid_dataloader:\n",
    "                features, labels = test_data[:, FEATURES_INDEX].float(), test_data[:, LABELS_INDEX].float()\n",
    "                outputs = net(features)\n",
    "                loss = criterion(outputs, labels)\n",
    "                test_epoch_loss.append(float(loss.data))\n",
    "                \n",
    "    learn_loss_by_lr.append(learn_epoch_loss)\n",
    "    valid_loss_by_lr.append(valid_epoch_loss)\n",
    "    test_loss_by_lr.append(test_epoch_loss)\n",
    "    epoch_loss_by_lr.append(epoch_list)"
   ]
  },
  {
   "cell_type": "code",
   "execution_count": 20,
   "metadata": {},
   "outputs": [],
   "source": [
    "torch.save(net.state_dict(), 'gdnesterov/net_params.pkl')"
   ]
  },
  {
   "cell_type": "code",
   "execution_count": 21,
   "metadata": {},
   "outputs": [
    {
     "data": {
      "image/png": "[encoded data removed]",
      "text/plain": [
       "<matplotlib.figure.Figure at 0x119ee8fd0>"
      ]
     },
     "metadata": {},
     "output_type": "display_data"
    }
   ],
   "source": [
    "#learn\n",
    "for num, i in enumerate(mu_list):\n",
    "    plt.plot(learn_loss_by_lr[num], label=str(i))\n",
    "plt.title('learn loss')\n",
    "plt.legend()\n",
    "plt.savefig('gdnesterov/learn_loss.png', bbox_inches='tight')"
   ]
  },
  {
   "cell_type": "code",
   "execution_count": 22,
   "metadata": {},
   "outputs": [
    {
     "data": {
      "image/png": "[encoded data removed]",
      "text/plain": [
       "<matplotlib.figure.Figure at 0x119ef7c18>"
      ]
     },
     "metadata": {},
     "output_type": "display_data"
    }
   ],
   "source": [
    "#valid\n",
    "for num, i in enumerate(mu_list):\n",
    "    plt.plot(epoch_loss_by_lr[num], valid_loss_by_lr[num], label=str(i))\n",
    "plt.title('valid loss')\n",
    "plt.legend()\n",
    "plt.savefig('gdnesterov/valid_loss.png', bbox_inches='tight')"
   ]
  },
  {
   "cell_type": "code",
   "execution_count": 23,
   "metadata": {},
   "outputs": [
    {
     "data": {
      "image/png": "[encoded data removed]",
      "text/plain": [
       "<matplotlib.figure.Figure at 0x119efdeb8>"
      ]
     },
     "metadata": {},
     "output_type": "display_data"
    }
   ],
   "source": [
    "#test\n",
    "for num, i in enumerate(mu_list):\n",
    "    plt.plot(epoch_loss_by_lr[num], test_loss_by_lr[num], label=str(i))\n",
    "plt.title('test loss')\n",
    "plt.legend()\n",
    "plt.savefig('gdnesterov/test_loss.png', bbox_inches='tight')"
   ]
  },
  {
   "cell_type": "code",
   "execution_count": 24,
   "metadata": {},
   "outputs": [
    {
     "name": "stdout",
     "output_type": "stream",
     "text": [
      "0.1126605294258246\n",
      "0.1009412775044593\n",
      "0.07005231349535708\n",
      "0.02009145692342295\n"
     ]
    }
   ],
   "source": [
    "#learn\n",
    "for num, i in enumerate(mu_list):\n",
    "    print(learn_loss_by_lr[num][-1])"
   ]
  },
  {
   "cell_type": "code",
   "execution_count": 25,
   "metadata": {},
   "outputs": [
    {
     "name": "stdout",
     "output_type": "stream",
     "text": [
      "0.21610453724861145\n",
      "0.2193015217781067\n",
      "0.23170357942581177\n",
      "0.4943729341030121\n"
     ]
    }
   ],
   "source": [
    "#learn\n",
    "for num, i in enumerate(mu_list):\n",
    "    print(test_loss_by_lr[num][-1])"
   ]
  },
  {
   "cell_type": "code",
   "execution_count": null,
   "metadata": {},
   "outputs": [],
   "source": []
  }
 ],
 "metadata": {
  "kernelspec": {
   "display_name": "Python 3",
   "language": "python",
   "name": "python3"
  },
  "language_info": {
   "codemirror_mode": {
    "name": "ipython",
    "version": 3
   },
   "file_extension": ".py",
   "mimetype": "text/x-python",
   "name": "python",
   "nbconvert_exporter": "python",
   "pygments_lexer": "ipython3",
   "version": "3.6.4"
  }
 },
 "nbformat": 4,
 "nbformat_minor": 2
}
